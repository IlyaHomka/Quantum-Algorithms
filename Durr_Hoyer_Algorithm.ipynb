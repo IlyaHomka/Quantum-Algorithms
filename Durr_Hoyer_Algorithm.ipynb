{
 "cells": [
  {
   "cell_type": "code",
   "execution_count": 1,
   "id": "9b2738fd-b0bb-4eff-89c4-7f71d28fb70a",
   "metadata": {},
   "outputs": [
    {
     "name": "stderr",
     "output_type": "stream",
     "text": [
      "/tmp/ipykernel_146/3360342883.py:15: DeprecationWarning: The qiskit.IBMQ entrypoint and the qiskit-ibmq-provider package (accessible from 'qiskit.providers.ibmq`) are deprecated and will be removed in a future release. Instead you should use the qiskit-ibm-provider package which is accessible from 'qiskit_ibm_provider'. You can install it with 'pip install qiskit_ibm_provider'. Just replace 'qiskit.IBMQ' with 'qiskit_ibm_provider.IBMProvider'\n",
      "  provider = IBMQ.load_account()\n"
     ]
    }
   ],
   "source": [
    "import numpy as np\n",
    "import matplotlib.pyplot as plt\n",
    "import scipy.sparse as sps\n",
    "\n",
    "# Importing standard Qiskit libraries\n",
    "from qiskit import QuantumCircuit, transpile, Aer, IBMQ, execute\n",
    "from qiskit.tools.jupyter import *\n",
    "from qiskit.visualization import *\n",
    "from ibm_quantum_widgets import *\n",
    "from qiskit.providers.aer import QasmSimulator\n",
    "from qiskit import ClassicalRegister\n",
    "from qiskit import QuantumRegister\n",
    "\n",
    "# Loading your IBM Quantum account(s)\n",
    "provider = IBMQ.load_account()"
   ]
  },
  {
   "cell_type": "code",
   "execution_count": 2,
   "id": "62f8eb43-f4a2-49ce-a1c8-c3aabd9b96f3",
   "metadata": {},
   "outputs": [],
   "source": [
    "# Importing all the necessary libraries\n",
    "from qiskit.circuit.library import IntegerComparator, GroverOperator, ZGate\n",
    "from qiskit.quantum_info import Statevector\n",
    "from qiskit.algorithms import AmplificationProblem\n",
    "from qiskit.algorithms import Grover"
   ]
  },
  {
   "cell_type": "markdown",
   "id": "854c34b4-fc3d-4203-b713-e1779177a1cf",
   "metadata": {},
   "source": [
    "# Dataset, binary data and continuous data"
   ]
  },
  {
   "cell_type": "code",
   "execution_count": 3,
   "id": "ff2d67f8-c59b-40ab-80cd-ead46f5bf86b",
   "metadata": {},
   "outputs": [],
   "source": [
    "def digit_basis(geometry):\n",
    "    num_bit = np.prod(geometry)\n",
    "    M = 2**num_bit\n",
    "    x = np.arange(M)\n",
    "    return x\n",
    "\n",
    "def binary_basis(geometry):\n",
    "    num_bit = np.prod(geometry)\n",
    "    M = 2**num_bit\n",
    "    x = np.arange(M)\n",
    "    return unpacknbits(x[:,None], num_bit).reshape((-1,)+geometry)\n",
    "\n",
    "def unpacknbits(arr, nbit, axis=-1):\n",
    "    '''unpack numbers to bitstrings.'''\n",
    "    nd = np.ndim(arr)\n",
    "    if axis < 0:\n",
    "        axis = nd + axis\n",
    "    return (((arr & (1 << np.arange(nbit - 1, -1, -1)).reshape([-1] + [1] * (nd - axis - 1)))) > 0).astype('int8')\n",
    "\n",
    "def packnbits(arr, axis=-1):\n",
    "    '''pack bitstrings to numbers.'''\n",
    "    nd = np.ndim(arr)\n",
    "    nbit = np.shape(arr)[axis]\n",
    "    if axis < 0:\n",
    "        axis = nd + axis\n",
    "    return (arr * (1 << np.arange(nbit - 1, -1, -1)).reshape([-1] + [1] * (nd - axis - 1))\\\n",
    "           ).sum(axis=axis, keepdims=True).astype('int')"
   ]
  },
  {
   "cell_type": "code",
   "execution_count": 4,
   "id": "ccbb3571-086c-44e9-b2cf-dafeaa520c92",
   "metadata": {},
   "outputs": [],
   "source": [
    "def barstripe_pdf(geometry):\n",
    "    '''get bar and stripes PDF'''\n",
    "    x = binary_basis(geometry)\n",
    "    pl = is_bs(x)\n",
    "    return pl/pl.sum()\n",
    "\n",
    "def is_bs(samples):\n",
    "    '''a sample is a bar or a stripe.'''\n",
    "    return (np.abs(np.diff(samples,axis=-1)).sum(axis=(1,2))==0\\\n",
    "           )|((np.abs(np.diff(samples, axis=1)).sum(axis=(1,2)))==0)"
   ]
  },
  {
   "cell_type": "code",
   "execution_count": 5,
   "id": "97cf6517-323d-42de-9cde-4d036b54337c",
   "metadata": {},
   "outputs": [],
   "source": [
    "# Suppress warnings\n",
    "import warnings\n",
    "warnings.filterwarnings('ignore')\n",
    "\n",
    "import random\n",
    "import math\n",
    "from math import pi, sqrt"
   ]
  },
  {
   "cell_type": "code",
   "execution_count": 6,
   "id": "4cb0e9db-87a3-40fd-9603-5904f8c4c117",
   "metadata": {},
   "outputs": [
    {
     "data": {
      "image/png": "[encoded data removed]",
      "text/plain": [
       "<Figure size 640x480 with 6 Axes>"
      ]
     },
     "metadata": {},
     "output_type": "display_data"
    }
   ],
   "source": [
    "# Generating dataset \n",
    "geometry = (2,2) \n",
    "pl2 = barstripe_pdf(geometry)\n",
    "# plt.plot(pl2)\n",
    "\n",
    "# show ticks\n",
    "basis = binary_basis(geometry)\n",
    "\n",
    "\n",
    "# generate samples\n",
    "samples = basis[pl2>1e-2]\n",
    "\n",
    "# show bar and stripes\n",
    "def plot_bs(samples, size):\n",
    "    plt.figure(facecolor='#777777')\n",
    "    gs = plt.GridSpec(*size)\n",
    "\n",
    "    for i in range(size[0]):\n",
    "        for j in range(size[1]):\n",
    "            if i*size[1]+j == len(samples): break\n",
    "            plt.subplot(gs[i,j]).imshow(samples[i*size[1]+j], vmin=0, vmax=1)\n",
    "            plt.axis('equal')\n",
    "            plt.axis('off')\n",
    "    plt.show()\n",
    "\n",
    "size = (3, 3)\n",
    "plot_bs(samples, size)"
   ]
  },
  {
   "cell_type": "code",
   "execution_count": 7,
   "id": "e7498de5-db2d-48ea-8376-69470ebf55d2",
   "metadata": {},
   "outputs": [
    {
     "name": "stdout",
     "output_type": "stream",
     "text": [
      "['0000' '0011' '0101' '1010' '1100' '1111']\n"
     ]
    }
   ],
   "source": [
    "# Mapping between bars and stripes and their binary representation \n",
    "d0 = np.shape(samples)[0] #Number of possible combinations\n",
    "d1 = np.shape(samples)[1] #Number of bars in one element\n",
    "d2 = np.shape(samples)[2] #Number of stripes in one element \n",
    "bs = [] # Converting bars and stripes into numbers\n",
    "for index in range(d0):\n",
    "    sample_digit = np.reshape(samples[index], np.size(samples[index]))\n",
    "    bs.append(sample_digit.dot(2**np.arange(sample_digit.size)[::-1]))\n",
    "bs_bite  = np.array([\"{0:04b}\".format(x) for x in bs]) #binary representation of bars and stripes\n",
    "print(bs_bite)"
   ]
  },
  {
   "cell_type": "markdown",
   "id": "fb29921a-01f5-4790-b171-bf95281f88b3",
   "metadata": {},
   "source": [
    "# Dürr-Høyer algorithm"
   ]
  },
  {
   "cell_type": "code",
   "execution_count": 8,
   "id": "1146693c-4e46-4c05-ac1a-0a9d4c24d3c1",
   "metadata": {},
   "outputs": [],
   "source": [
    "# Hamming distance for\n",
    "def hamming_distance(str1, str2):\n",
    "    \"\"\"Calculate the Hamming distance between two bit strings\n",
    "    \"\"\"\n",
    "    if len(str1) != len(str2):\n",
    "        raise VisualizationError(\"Strings not same length.\")\n",
    "    return sum(s1 != s2 for s1, s2 in zip(str1, str2))"
   ]
  },
  {
   "cell_type": "code",
   "execution_count": 9,
   "id": "701181a2-0c72-4c07-8468-5dd633f48a28",
   "metadata": {},
   "outputs": [
    {
     "name": "stdout",
     "output_type": "stream",
     "text": [
      "['0000' '0011' '1100']\n",
      "['0101' '1010' '1111']\n"
     ]
    }
   ],
   "source": [
    "# Sepparating Bars & Stripes\n",
    "bs = np.array(bs, dtype=int)\n",
    "stripes = bs_bite[np.where((bs % 5 ==0) & (bs !=0))]\n",
    "bars = np.setdiff1d(bs_bite, stripes)\n",
    "print(bars)\n",
    "print(stripes)"
   ]
  },
  {
   "cell_type": "code",
   "execution_count": 10,
   "id": "ec1a37f1-2eab-4779-9c20-685fc02ca370",
   "metadata": {},
   "outputs": [],
   "source": [
    "# Separate bars & stripes\n",
    "import random\n",
    "N = 4 # Test for N=4 qubits\n",
    "y_bite = random.choice(bars) #Initial guess\n",
    "# Circuit for a quantum solution\n",
    "# qubit = QuantumRegister(N, 'q')\n",
    "# bit = ClassicalRegister(y, \"yc\")\n",
    "# durr_hoyer_circuit = QuantumCircuit(qubit, bit)"
   ]
  },
  {
   "cell_type": "code",
   "execution_count": 11,
   "id": "f05d1284-9f05-455c-b289-7229d892bee8",
   "metadata": {},
   "outputs": [],
   "source": [
    "# Binary \n",
    "#y_bite = \"{0:04b}\".format(y) x_b = \"{0:04b}\".format(x)\n",
    "x_b = random.choice(bs_bite) # Choose a vector x"
   ]
  },
  {
   "cell_type": "code",
   "execution_count": 12,
   "id": "fa81d2d2-259d-4785-9b9a-cf1b8704f5fa",
   "metadata": {},
   "outputs": [
    {
     "name": "stdout",
     "output_type": "stream",
     "text": [
      "[0, 2, 2, 2, 2, 4]\n"
     ]
    }
   ],
   "source": [
    "# Distances\n",
    "distances = []\n",
    "for b in range(len(bs_bite)):\n",
    "    distances.append(hamming_distance(x_b,bs_bite[b]))\n",
    "print(distances)"
   ]
  },
  {
   "cell_type": "code",
   "execution_count": 13,
   "id": "93490273-5c03-430e-b460-7974f5c6cda8",
   "metadata": {},
   "outputs": [
    {
     "name": "stdout",
     "output_type": "stream",
     "text": [
      "0000 0011\n",
      "['0000' '0011' '0101' '1010' '1100' '1111']\n"
     ]
    }
   ],
   "source": [
    "#Printing x and elements in a binary form\n",
    "print(x_b,y_bite)\n",
    "print(bs_bite)"
   ]
  },
  {
   "cell_type": "code",
   "execution_count": 14,
   "id": "867d5454-ca42-4d10-9ef3-4e99296b3f13",
   "metadata": {},
   "outputs": [],
   "source": [
    "backend = Aer.get_backend('qasm_simulator')"
   ]
  },
  {
   "cell_type": "code",
   "execution_count": 15,
   "id": "f5905471-ebf4-413d-8f84-f8e5627e5e38",
   "metadata": {},
   "outputs": [],
   "source": [
    "#Dürr-Høyer algorithm \n",
    "max_iteration = int(22.5 * math.sqrt(d0) + 1.4 * math.log2(d0)) # max number of iterations\n",
    "for k in range(max_iteration):  #max_iteration\n",
    "    marked_items = [b for b in bars if hamming_distance(x_b,b) < hamming_distance(x_b,y_bite)] # marked elements \n",
    "    y_dash_bite = random.choice(marked_items) if len(marked_items) != 0 else y_bite\n",
    "    oracle = Statevector.from_label(y_dash_bite)  # Using qiskit Grover operator\n",
    "    problem = AmplificationProblem(oracle, is_good_state=(y_dash_bite))\n",
    "    grover_circuits = [] # Circuit for the problem\n",
    "    for iteration in range(1,3):\n",
    "        grover = Grover(iterations=iteration)\n",
    "        circuit = grover.construct_circuit(problem)\n",
    "        circuit.measure_all()\n",
    "        grover_circuits.append(circuit)\n",
    "    results1 = execute(grover_circuits[1], backend, shots = 1024).result()\n",
    "    counts1 = results1.get_counts()\n",
    "    most_frequent_value = counts1.most_frequent()\n",
    "    y_bite = y_dash_bite if hamming_distance(x_b,y_dash_bite) < hamming_distance(x_b,y_bite) else y_bite"
   ]
  },
  {
   "cell_type": "code",
   "execution_count": 16,
   "id": "b90376e5-bf0e-476f-83be-6189a69ee9a6",
   "metadata": {},
   "outputs": [
    {
     "name": "stdout",
     "output_type": "stream",
     "text": [
      "The clostsest element to x = 0 and x from bars \n"
     ]
    }
   ],
   "source": [
    "min_element = int(y_bite, 2) \n",
    "min_index = np.where(bs==min_element)[0] \n",
    "print(\"The clostsest element to x =\", min_element,\"and x from bars \" if hamming_distance(x_b,y_bite)==0 else \"and x from stripes\")"
   ]
  },
  {
   "cell_type": "code",
   "execution_count": null,
   "id": "4d95007e-a73c-42d3-8b4d-f195f134426c",
   "metadata": {},
   "outputs": [],
   "source": []
  }
 ],
 "metadata": {
  "kernelspec": {
   "display_name": "Python 3 (ipykernel)",
   "language": "python",
   "name": "python3"
  },
  "language_info": {
   "codemirror_mode": {
    "name": "ipython",
    "version": 3
   },
   "file_extension": ".py",
   "mimetype": "text/x-python",
   "name": "python",
   "nbconvert_exporter": "python",
   "pygments_lexer": "ipython3",
   "version": "3.10.8"
  },
  "widgets": {
   "application/vnd.jupyter.widget-state+json": {
    "state": {
     "10805c1e1d82494eb2c7b79da12b37a2": {
      "model_module": "@jupyter-widgets/controls",
      "model_module_version": "2.0.0",
      "model_name": "HTMLStyleModel",
      "state": {
       "description_width": "",
       "font_size": null,
       "text_color": null
      }
     },
     "1777c884e39c484c8d3cdd90c5112638": {
      "model_module": "@jupyter-widgets/base",
      "model_module_version": "2.0.0",
      "model_name": "LayoutModel",
      "state": {
       "grid_template_areas": "\n                                       \". . . . right \"\n                                        ",
       "grid_template_columns": "20% 20% 20% 20% 20%",
       "width": "100%"
      }
     },
     "29941fcd47d04ea587af6ced637c29e4": {
      "model_module": "@jupyter-widgets/base",
      "model_module_version": "2.0.0",
      "model_name": "LayoutModel",
      "state": {
       "width": "145px"
      }
     },
     "37d84bc44a8443d7a4785fa6f95cabb4": {
      "model_module": "@jupyter-widgets/controls",
      "model_module_version": "2.0.0",
      "model_name": "HTMLStyleModel",
      "state": {
       "description_width": "",
       "font_size": null,
       "text_color": null
      }
     },
     "38ba7090f6d04625b0ae6b53114aa24c": {
      "model_module": "@jupyter-widgets/base",
      "model_module_version": "2.0.0",
      "model_name": "LayoutModel",
      "state": {
       "margin": "0px 0px 10px 0px"
      }
     },
     "3b0e0c192cc548afafd0f24aa1ab7e6c": {
      "model_module": "@jupyter-widgets/controls",
      "model_module_version": "2.0.0",
      "model_name": "HTMLStyleModel",
      "state": {
       "description_width": "",
       "font_size": null,
       "text_color": null
      }
     },
     "3b628d55ad8543e7b43889c5f852f4b4": {
      "model_module": "@jupyter-widgets/controls",
      "model_module_version": "2.0.0",
      "model_name": "GridBoxModel",
      "state": {
       "children": [
        "IPY_MODEL_a0bdc86700ec4e11acd438d2d0ae28c3"
       ],
       "layout": "IPY_MODEL_1777c884e39c484c8d3cdd90c5112638"
      }
     },
     "3bf83e785b874d419a7746985c27e0ec": {
      "model_module": "@jupyter-widgets/controls",
      "model_module_version": "2.0.0",
      "model_name": "HTMLStyleModel",
      "state": {
       "description_width": "",
       "font_size": null,
       "text_color": null
      }
     },
     "3fea61048c09427cae48e889a0338539": {
      "model_module": "@jupyter-widgets/controls",
      "model_module_version": "2.0.0",
      "model_name": "HTMLModel",
      "state": {
       "layout": "IPY_MODEL_f7f432d89ab943f39c4beab472726f3a",
       "style": "IPY_MODEL_79e3ce79a5f34958997e1546ecca0a87",
       "value": "<h5>Message</h5>"
      }
     },
     "6b1f5431745a493cbbd72675e4b32bae": {
      "model_module": "@jupyter-widgets/controls",
      "model_module_version": "2.0.0",
      "model_name": "HTMLStyleModel",
      "state": {
       "description_width": "",
       "font_size": null,
       "text_color": null
      }
     },
     "6ee2be6f0d2c400299a1ba40045981f7": {
      "model_module": "@jupyter-widgets/base",
      "model_module_version": "2.0.0",
      "model_name": "LayoutModel",
      "state": {
       "width": "70px"
      }
     },
     "7893ff0acff44fc1ac68d8b16a208a1d": {
      "model_module": "@jupyter-widgets/controls",
      "model_module_version": "2.0.0",
      "model_name": "HTMLModel",
      "state": {
       "layout": "IPY_MODEL_6ee2be6f0d2c400299a1ba40045981f7",
       "style": "IPY_MODEL_10805c1e1d82494eb2c7b79da12b37a2",
       "value": "<h5>Queue</h5>"
      }
     },
     "79e3ce79a5f34958997e1546ecca0a87": {
      "model_module": "@jupyter-widgets/controls",
      "model_module_version": "2.0.0",
      "model_name": "HTMLStyleModel",
      "state": {
       "description_width": "",
       "font_size": null,
       "text_color": null
      }
     },
     "8f9bbb3c5c8c487db8e480315ae9cf14": {
      "model_module": "@jupyter-widgets/base",
      "model_module_version": "2.0.0",
      "model_name": "LayoutModel",
      "state": {
       "width": "190px"
      }
     },
     "9957427deb9d4933b5ed0adf9b0fba27": {
      "model_module": "@jupyter-widgets/base",
      "model_module_version": "2.0.0",
      "model_name": "LayoutModel",
      "state": {
       "margin": "0px 0px 0px 37px",
       "width": "600px"
      }
     },
     "a0bdc86700ec4e11acd438d2d0ae28c3": {
      "model_module": "@jupyter-widgets/controls",
      "model_module_version": "2.0.0",
      "model_name": "ButtonModel",
      "state": {
       "button_style": "primary",
       "description": "Clear",
       "layout": "IPY_MODEL_f87a9df7217e4dcb9280b7e7c9e49f3a",
       "style": "IPY_MODEL_e31cc4a1aeab49dd9f37f5789b47788a",
       "tooltip": null
      }
     },
     "ab82ff7db5ff4c8a8084d7aaa0212a5d": {
      "model_module": "@jupyter-widgets/controls",
      "model_module_version": "2.0.0",
      "model_name": "HTMLModel",
      "state": {
       "layout": "IPY_MODEL_29941fcd47d04ea587af6ced637c29e4",
       "style": "IPY_MODEL_37d84bc44a8443d7a4785fa6f95cabb4",
       "value": "<h5>Backend</h5>"
      }
     },
     "c5e6306658df4b16846ab44e78b69daa": {
      "model_module": "@jupyter-widgets/base",
      "model_module_version": "2.0.0",
      "model_name": "LayoutModel",
      "state": {
       "width": "95px"
      }
     },
     "d8abbae2cd3240d59b0d2f29fbff66e5": {
      "model_module": "@jupyter-widgets/controls",
      "model_module_version": "2.0.0",
      "model_name": "HTMLModel",
      "state": {
       "layout": "IPY_MODEL_8f9bbb3c5c8c487db8e480315ae9cf14",
       "style": "IPY_MODEL_6b1f5431745a493cbbd72675e4b32bae",
       "value": "<h5>Job ID</h5>"
      }
     },
     "d8eba18c1319410b9b1a85858601c5c8": {
      "model_module": "@jupyter-widgets/controls",
      "model_module_version": "2.0.0",
      "model_name": "HBoxModel",
      "state": {
       "children": [
        "IPY_MODEL_d8abbae2cd3240d59b0d2f29fbff66e5",
        "IPY_MODEL_ab82ff7db5ff4c8a8084d7aaa0212a5d",
        "IPY_MODEL_daca85d221a04c96a31c45cfe162180b",
        "IPY_MODEL_7893ff0acff44fc1ac68d8b16a208a1d",
        "IPY_MODEL_3fea61048c09427cae48e889a0338539"
       ],
       "layout": "IPY_MODEL_9957427deb9d4933b5ed0adf9b0fba27"
      }
     },
     "daca85d221a04c96a31c45cfe162180b": {
      "model_module": "@jupyter-widgets/controls",
      "model_module_version": "2.0.0",
      "model_name": "HTMLModel",
      "state": {
       "layout": "IPY_MODEL_c5e6306658df4b16846ab44e78b69daa",
       "style": "IPY_MODEL_3bf83e785b874d419a7746985c27e0ec",
       "value": "<h5>Status</h5>"
      }
     },
     "e31cc4a1aeab49dd9f37f5789b47788a": {
      "model_module": "@jupyter-widgets/controls",
      "model_module_version": "2.0.0",
      "model_name": "ButtonStyleModel",
      "state": {
       "font_family": null,
       "font_size": null,
       "font_style": null,
       "font_variant": null,
       "font_weight": null,
       "text_color": null,
       "text_decoration": null
      }
     },
     "e7887dfa82fe458d8ee6271b57d9b34c": {
      "model_module": "@jupyter-widgets/controls",
      "model_module_version": "2.0.0",
      "model_name": "HTMLModel",
      "state": {
       "layout": "IPY_MODEL_38ba7090f6d04625b0ae6b53114aa24c",
       "style": "IPY_MODEL_3b0e0c192cc548afafd0f24aa1ab7e6c",
       "value": "<p style='font-family: IBM Plex Sans, Arial, Helvetica, sans-serif; font-size: 20px; font-weight: medium;'>Circuit Properties</p>"
      }
     },
     "f7f432d89ab943f39c4beab472726f3a": {
      "model_module": "@jupyter-widgets/base",
      "model_module_version": "2.0.0",
      "model_name": "LayoutModel",
      "state": {}
     },
     "f87a9df7217e4dcb9280b7e7c9e49f3a": {
      "model_module": "@jupyter-widgets/base",
      "model_module_version": "2.0.0",
      "model_name": "LayoutModel",
      "state": {
       "grid_area": "right",
       "padding": "0px 0px 0px 0px",
       "width": "70px"
      }
     }
    },
    "version_major": 2,
    "version_minor": 0
   }
  }
 },
 "nbformat": 4,
 "nbformat_minor": 5
}
